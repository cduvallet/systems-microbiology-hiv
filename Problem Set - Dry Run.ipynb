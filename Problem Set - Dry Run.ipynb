{
 "cells": [
  {
   "cell_type": "code",
   "execution_count": 2,
   "metadata": {
    "collapsed": true
   },
   "outputs": [],
   "source": [
    "import custom_funcs as cf\n",
    "import numpy as np\n",
    "import scipy as sp\n",
    "from scipy.stats import pearsonr"
   ]
  },
  {
   "cell_type": "markdown",
   "metadata": {},
   "source": [
    "# Problem Set on Machine Learning"
   ]
  },
  {
   "cell_type": "markdown",
   "metadata": {
    "nbgrader": {
     "grade": false,
     "locked": false,
     "solution": false
    }
   },
   "source": [
    "## Question 1\n",
    "\n",
    "Identify the original literature reference for the PhenoSense assay. Paste the URL to the PubMed article below, and write a one-paragraph summary on how the assay is done."
   ]
  },
  {
   "cell_type": "markdown",
   "metadata": {
    "nbgrader": {
     "grade": true,
     "grade_id": "phenosense",
     "locked": false,
     "points": 3,
     "solution": true
    }
   },
   "source": [
    "## Your Answer Here\n",
    "\n",
    "Double-click on this the answer cells, and start typing your answers. The cells will recognize Markdown. The most important things you may need are **bolded** text and *italicized* text, as well as:\n",
    "\n",
    "1. Numbered\n",
    "1. Lists\n",
    "    1. With\n",
    "    1. Sub-pointers\n",
    "\n",
    "Also, you may like\n",
    "\n",
    "- Bulleted \n",
    "- lists\n",
    "    - with\n",
    "    - subpointers\n",
    "- indentations are 4 spaces in."
   ]
  },
  {
   "cell_type": "markdown",
   "metadata": {},
   "source": [
    "## Question 2\n",
    "\n",
    "1. Identify the protease drugs for which the two drugs' resistance values are correlated. \n",
    "1. Write code below to calculate their correlation score. \n",
    "1. Search around the academic literature on these drugs, and provide an explanation as to why they would be correlated."
   ]
  },
  {
   "cell_type": "markdown",
   "metadata": {
    "nbgrader": {
     "grade": true,
     "grade_id": "drug_correlate",
     "locked": false,
     "points": 3,
     "solution": true
    }
   },
   "source": [
    "**Answer to Question 1:**\n",
    "\n",
    "The protease drugs that are most correlated are: **[put your answer here]**"
   ]
  },
  {
   "cell_type": "code",
   "execution_count": 4,
   "metadata": {
    "collapsed": false,
    "nbgrader": {
     "grade": false,
     "grade_id": "load_data",
     "locked": true,
     "solution": false
    }
   },
   "outputs": [
    {
     "data": {
      "text/html": [
       "<div>\n",
       "<table border=\"1\" class=\"dataframe\">\n",
       "  <thead>\n",
       "    <tr style=\"text-align: right;\">\n",
       "      <th></th>\n",
       "      <th>FPV</th>\n",
       "      <th>ATV</th>\n",
       "      <th>IDV</th>\n",
       "      <th>LPV</th>\n",
       "      <th>NFV</th>\n",
       "      <th>SQV</th>\n",
       "      <th>TPV</th>\n",
       "      <th>DRV</th>\n",
       "      <th>P1</th>\n",
       "      <th>P2</th>\n",
       "      <th>...</th>\n",
       "      <th>P90</th>\n",
       "      <th>P91</th>\n",
       "      <th>P92</th>\n",
       "      <th>P93</th>\n",
       "      <th>P94</th>\n",
       "      <th>P95</th>\n",
       "      <th>P96</th>\n",
       "      <th>P97</th>\n",
       "      <th>P98</th>\n",
       "      <th>P99</th>\n",
       "    </tr>\n",
       "    <tr>\n",
       "      <th>SeqID</th>\n",
       "      <th></th>\n",
       "      <th></th>\n",
       "      <th></th>\n",
       "      <th></th>\n",
       "      <th></th>\n",
       "      <th></th>\n",
       "      <th></th>\n",
       "      <th></th>\n",
       "      <th></th>\n",
       "      <th></th>\n",
       "      <th></th>\n",
       "      <th></th>\n",
       "      <th></th>\n",
       "      <th></th>\n",
       "      <th></th>\n",
       "      <th></th>\n",
       "      <th></th>\n",
       "      <th></th>\n",
       "      <th></th>\n",
       "      <th></th>\n",
       "      <th></th>\n",
       "    </tr>\n",
       "  </thead>\n",
       "  <tbody>\n",
       "    <tr>\n",
       "      <th>2996</th>\n",
       "      <td>0.397940</td>\n",
       "      <td>NaN</td>\n",
       "      <td>1.212188</td>\n",
       "      <td>NaN</td>\n",
       "      <td>1.586587</td>\n",
       "      <td>1.206826</td>\n",
       "      <td>NaN</td>\n",
       "      <td>NaN</td>\n",
       "      <td>P</td>\n",
       "      <td>Q</td>\n",
       "      <td>...</td>\n",
       "      <td>M</td>\n",
       "      <td>T</td>\n",
       "      <td>Q</td>\n",
       "      <td>L</td>\n",
       "      <td>G</td>\n",
       "      <td>C</td>\n",
       "      <td>T</td>\n",
       "      <td>L</td>\n",
       "      <td>N</td>\n",
       "      <td>F</td>\n",
       "    </tr>\n",
       "    <tr>\n",
       "      <th>4387</th>\n",
       "      <td>-0.154902</td>\n",
       "      <td>NaN</td>\n",
       "      <td>-0.096910</td>\n",
       "      <td>NaN</td>\n",
       "      <td>-0.096910</td>\n",
       "      <td>0.041393</td>\n",
       "      <td>NaN</td>\n",
       "      <td>NaN</td>\n",
       "      <td>P</td>\n",
       "      <td>Q</td>\n",
       "      <td>...</td>\n",
       "      <td>L</td>\n",
       "      <td>T</td>\n",
       "      <td>Q</td>\n",
       "      <td>I</td>\n",
       "      <td>G</td>\n",
       "      <td>C</td>\n",
       "      <td>T</td>\n",
       "      <td>L</td>\n",
       "      <td>N</td>\n",
       "      <td>F</td>\n",
       "    </tr>\n",
       "    <tr>\n",
       "      <th>4432</th>\n",
       "      <td>0.176091</td>\n",
       "      <td>NaN</td>\n",
       "      <td>0.000000</td>\n",
       "      <td>NaN</td>\n",
       "      <td>0.342423</td>\n",
       "      <td>0.041393</td>\n",
       "      <td>NaN</td>\n",
       "      <td>NaN</td>\n",
       "      <td>P</td>\n",
       "      <td>Q</td>\n",
       "      <td>...</td>\n",
       "      <td>L</td>\n",
       "      <td>T</td>\n",
       "      <td>Q</td>\n",
       "      <td>I</td>\n",
       "      <td>G</td>\n",
       "      <td>C</td>\n",
       "      <td>T</td>\n",
       "      <td>L</td>\n",
       "      <td>N</td>\n",
       "      <td>F</td>\n",
       "    </tr>\n",
       "    <tr>\n",
       "      <th>4482</th>\n",
       "      <td>0.591065</td>\n",
       "      <td>NaN</td>\n",
       "      <td>1.305351</td>\n",
       "      <td>NaN</td>\n",
       "      <td>1.334454</td>\n",
       "      <td>0.963788</td>\n",
       "      <td>NaN</td>\n",
       "      <td>NaN</td>\n",
       "      <td>P</td>\n",
       "      <td>Q</td>\n",
       "      <td>...</td>\n",
       "      <td>M</td>\n",
       "      <td>T</td>\n",
       "      <td>Q</td>\n",
       "      <td>L</td>\n",
       "      <td>G</td>\n",
       "      <td>C</td>\n",
       "      <td>T</td>\n",
       "      <td>L</td>\n",
       "      <td>N</td>\n",
       "      <td>F</td>\n",
       "    </tr>\n",
       "    <tr>\n",
       "      <th>4486</th>\n",
       "      <td>0.977724</td>\n",
       "      <td>1.30103</td>\n",
       "      <td>0.913814</td>\n",
       "      <td>1.041393</td>\n",
       "      <td>1.857332</td>\n",
       "      <td>1.662758</td>\n",
       "      <td>NaN</td>\n",
       "      <td>NaN</td>\n",
       "      <td>P</td>\n",
       "      <td>Q</td>\n",
       "      <td>...</td>\n",
       "      <td>L</td>\n",
       "      <td>T</td>\n",
       "      <td>Q</td>\n",
       "      <td>I</td>\n",
       "      <td>G</td>\n",
       "      <td>C</td>\n",
       "      <td>T</td>\n",
       "      <td>L</td>\n",
       "      <td>N</td>\n",
       "      <td>F</td>\n",
       "    </tr>\n",
       "  </tbody>\n",
       "</table>\n",
       "<p>5 rows × 107 columns</p>\n",
       "</div>"
      ],
      "text/plain": [
       "            FPV      ATV       IDV       LPV       NFV       SQV  TPV  DRV P1  \\\n",
       "SeqID                                                                           \n",
       "2996   0.397940      NaN  1.212188       NaN  1.586587  1.206826  NaN  NaN  P   \n",
       "4387  -0.154902      NaN -0.096910       NaN -0.096910  0.041393  NaN  NaN  P   \n",
       "4432   0.176091      NaN  0.000000       NaN  0.342423  0.041393  NaN  NaN  P   \n",
       "4482   0.591065      NaN  1.305351       NaN  1.334454  0.963788  NaN  NaN  P   \n",
       "4486   0.977724  1.30103  0.913814  1.041393  1.857332  1.662758  NaN  NaN  P   \n",
       "\n",
       "      P2 ... P90 P91 P92 P93 P94 P95 P96 P97 P98 P99  \n",
       "SeqID    ...                                          \n",
       "2996   Q ...   M   T   Q   L   G   C   T   L   N   F  \n",
       "4387   Q ...   L   T   Q   I   G   C   T   L   N   F  \n",
       "4432   Q ...   L   T   Q   I   G   C   T   L   N   F  \n",
       "4482   Q ...   M   T   Q   L   G   C   T   L   N   F  \n",
       "4486   Q ...   L   T   Q   I   G   C   T   L   N   F  \n",
       "\n",
       "[5 rows x 107 columns]"
      ]
     },
     "execution_count": 4,
     "metadata": {},
     "output_type": "execute_result"
    }
   ],
   "source": [
    "# This cell loads the data and cleans it for you, and log10 transforms the drug resistance values.\n",
    "DATA_HANDLE = 'drug_data/hiv-protease-data.csv'  # specify the relative path to the protease drug resistance data\n",
    "N_DATA = 8  # specify the number of columns in the CSV file that are drug resistance measurements.\n",
    "CONSENSUS = 'sequences/hiv-protease-consensus.fasta'  # specify the relative path to the HIV protease consensus sequence\n",
    "data, drug_cols, feat_cols = cf.read_data(DATA_HANDLE, N_DATA)\n",
    "consensus_map = cf.read_consensus(CONSENSUS)\n",
    "data = cf.clean_data(data, feat_cols, consensus_map)\n",
    "for name in drug_cols:\n",
    "    data[name] = data[name].apply(np.log10)\n",
    "data.head()"
   ]
  },
  {
   "cell_type": "code",
   "execution_count": 26,
   "metadata": {
    "collapsed": false,
    "nbgrader": {
     "grade": false,
     "grade_id": "drug_correlation_score",
     "locked": false,
     "solution": true
    }
   },
   "outputs": [],
   "source": [
    "\"\"\"\n",
    "Complete the function below to compute the correlation score.\n",
    "\n",
    "Use the scipy.stats.pearsonr(x, y) function to find the correlation score between two arrays of things. \n",
    "You do not need to type the whole name, as I have imported the pearsonr name for you, so you only have to do:\n",
    "\n",
    "    pearsonr(x, y)\n",
    "\n",
    "Procedure:\n",
    "\n",
    "1. Select two columns' names to compare.\n",
    "2. Make sure to drop NaN values. the pearsonr function cannot deal with NaN values. \n",
    "   (Refer to the Lecture notebook if you forgot how to do this.)\n",
    "3. Pass the data in to pearsonr().\n",
    "\n",
    "\"\"\"\n",
    "def corr_score(drug1, drug2):\n",
    "    ### BEGIN SOLUTION\n",
    "    # Get the subset of data\n",
    "    subset = data[[drug1, drug2]].dropna()\n",
    "    # Return the pearsonr score.\n",
    "    return pearsonr(subset[drug1], subset[drug2])\n",
    "    ### END SOLUTION"
   ]
  },
  {
   "cell_type": "code",
   "execution_count": 28,
   "metadata": {
    "collapsed": false,
    "nbgrader": {
     "grade": true,
     "grade_id": "drug_correlation_tests",
     "locked": true,
     "points": 1,
     "solution": false
    }
   },
   "outputs": [],
   "source": [
    "from itertools import combinations\n",
    "assert corr_score('IDV', 'FPV') == (0.79921991532901282, 2.6346448659104859e-306)\n",
    "assert corr_score('ATV', 'FPV') == (0.82009597442033089, 2.5199367322520278e-231)\n",
    "assert corr_score('NFV', 'DRV') == (0.69148264851159791, 4.0640711263961111e-82)\n",
    "assert corr_score('LPV', 'SQV') == (0.76682619729899326, 4.2705737581002648e-234)"
   ]
  },
  {
   "cell_type": "markdown",
   "metadata": {
    "nbgrader": {
     "grade": true,
     "grade_id": "drug_correlation_mechanism",
     "locked": false,
     "points": 3,
     "solution": true
    }
   },
   "source": [
    "**Answer to Question 3:**"
   ]
  },
  {
   "cell_type": "markdown",
   "metadata": {
    "collapsed": true
   },
   "source": [
    "# Problem 3\n",
    "\n",
    "Write a block of code that plots the distribution of drug resistance across all protease proteins that are present."
   ]
  }
 ],
 "metadata": {
  "celltoolbar": "Create Assignment",
  "kernelspec": {
   "display_name": "Python 3",
   "language": "python",
   "name": "python3"
  },
  "language_info": {
   "codemirror_mode": {
    "name": "ipython",
    "version": 3
   },
   "file_extension": ".py",
   "mimetype": "text/x-python",
   "name": "python",
   "nbconvert_exporter": "python",
   "pygments_lexer": "ipython3",
   "version": "3.5.0"
  }
 },
 "nbformat": 4,
 "nbformat_minor": 0
}
